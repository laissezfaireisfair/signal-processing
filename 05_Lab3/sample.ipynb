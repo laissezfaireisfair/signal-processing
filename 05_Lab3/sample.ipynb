{
 "cells": [
  {
   "metadata": {},
   "cell_type": "markdown",
   "source": "# Lab 3",
   "id": "5d8f0cc10c0bdfed"
  },
  {
   "metadata": {
    "ExecuteTime": {
     "end_time": "2024-11-17T18:49:52.532533Z",
     "start_time": "2024-11-17T18:49:52.530574Z"
    }
   },
   "cell_type": "code",
   "source": [
    "import numpy as np\n",
    "from scipy.fft import fft, ifft\n",
    "from matplotlib import pyplot as plt"
   ],
   "id": "3827d200d580555a",
   "outputs": [],
   "execution_count": 28
  },
  {
   "metadata": {
    "ExecuteTime": {
     "end_time": "2024-11-17T19:14:58.119350Z",
     "start_time": "2024-11-17T19:14:58.050635Z"
    }
   },
   "cell_type": "code",
   "source": [
    "def exercise1() -> None:\n",
    "    points_count = 900\n",
    "    max_frequency = 1350\n",
    "\n",
    "    def signal(x: np.ndarray[np.dtype]) -> np.ndarray[np.dtype]:\n",
    "        return np.cos(x * 2 * np.pi * 50) + np.cos(x * 2 * np.pi * 150) + np.cos(x * 2 * np.pi * 450)\n",
    "\n",
    "    period = 1 / max_frequency\n",
    "    xs = np.linspace(0, points_count * period, points_count)\n",
    "    ys = signal(xs)\n",
    "    \n",
    "    xs_ff = np.linspace(0, max_frequency / 2, points_count // 2)\n",
    "    ys_ff = fft(ys)\n",
    "\n",
    "    limit = 50\n",
    "    plt.subplot(221)\n",
    "    plt.plot(xs[0:limit], ys[0:limit])\n",
    "    plt.grid()\n",
    "\n",
    "    plt.subplot(222)\n",
    "    plt.plot(xs_ff, 2 / points_count * np.abs(ys_ff[0:points_count // 2]))\n",
    "    plt.xlim(0, 600)\n",
    "    plt.grid()\n",
    "\n",
    "    plt.show()\n",
    "\n",
    "\n",
    "exercise1()"
   ],
   "id": "50546fc46f4c2c34",
   "outputs": [
    {
     "data": {
      "text/plain": [
       "<Figure size 640x480 with 2 Axes>"
      ],
      "image/png": "[encoded data removed]"
     },
     "metadata": {},
     "output_type": "display_data"
    }
   ],
   "execution_count": 112
  },
  {
   "metadata": {
    "ExecuteTime": {
     "end_time": "2024-11-17T18:27:45.589322Z",
     "start_time": "2024-11-17T18:27:45.587611Z"
    }
   },
   "cell_type": "code",
   "source": [
    "def exercise2() -> None:\n",
    "    pass\n",
    "\n",
    "\n",
    "exercise2()"
   ],
   "id": "e22b6a18dc692343",
   "outputs": [],
   "execution_count": 4
  },
  {
   "metadata": {
    "ExecuteTime": {
     "end_time": "2024-11-17T18:27:45.636281Z",
     "start_time": "2024-11-17T18:27:45.634488Z"
    }
   },
   "cell_type": "code",
   "source": [
    "def exercise3() -> None:\n",
    "    pass\n",
    "\n",
    "\n",
    "exercise3()"
   ],
   "id": "149cf0556072149f",
   "outputs": [],
   "execution_count": 5
  },
  {
   "metadata": {
    "ExecuteTime": {
     "end_time": "2024-11-17T18:27:45.682686Z",
     "start_time": "2024-11-17T18:27:45.681165Z"
    }
   },
   "cell_type": "code",
   "source": [
    "def exercise4() -> None:\n",
    "    pass\n",
    "\n",
    "\n",
    "exercise4()"
   ],
   "id": "251448330cd51e9a",
   "outputs": [],
   "execution_count": 6
  },
  {
   "metadata": {
    "ExecuteTime": {
     "end_time": "2024-11-17T18:27:45.737930Z",
     "start_time": "2024-11-17T18:27:45.736313Z"
    }
   },
   "cell_type": "code",
   "source": [
    "def exercise5() -> None:\n",
    "    pass\n",
    "\n",
    "\n",
    "exercise5()"
   ],
   "id": "a6207b48e2ecc234",
   "outputs": [],
   "execution_count": 7
  },
  {
   "metadata": {
    "ExecuteTime": {
     "end_time": "2024-11-17T18:27:45.782860Z",
     "start_time": "2024-11-17T18:27:45.781179Z"
    }
   },
   "cell_type": "code",
   "source": [
    "def exercise6() -> None:\n",
    "    pass\n",
    "\n",
    "\n",
    "exercise6()"
   ],
   "id": "707ffdb6ecd92d16",
   "outputs": [],
   "execution_count": 8
  },
  {
   "metadata": {
    "ExecuteTime": {
     "end_time": "2024-11-17T18:27:45.829555Z",
     "start_time": "2024-11-17T18:27:45.827899Z"
    }
   },
   "cell_type": "code",
   "source": [
    "def exercise7() -> None:\n",
    "    pass\n",
    "\n",
    "\n",
    "exercise7()"
   ],
   "id": "baec1956dea68d2d",
   "outputs": [],
   "execution_count": 9
  },
  {
   "metadata": {
    "ExecuteTime": {
     "end_time": "2024-11-17T18:27:45.875877Z",
     "start_time": "2024-11-17T18:27:45.874149Z"
    }
   },
   "cell_type": "code",
   "source": [
    "def exercise8() -> None:\n",
    "    pass\n",
    "\n",
    "\n",
    "exercise8()"
   ],
   "id": "f205e57bd268b38d",
   "outputs": [],
   "execution_count": 10
  },
  {
   "metadata": {
    "ExecuteTime": {
     "end_time": "2024-11-17T18:27:45.922593Z",
     "start_time": "2024-11-17T18:27:45.920982Z"
    }
   },
   "cell_type": "code",
   "source": [
    "def exercise9() -> None:\n",
    "    pass\n",
    "\n",
    "\n",
    "exercise9()"
   ],
   "id": "31b5224440ec2b1a",
   "outputs": [],
   "execution_count": 11
  },
  {
   "metadata": {
    "ExecuteTime": {
     "end_time": "2024-11-17T18:27:45.969532Z",
     "start_time": "2024-11-17T18:27:45.967647Z"
    }
   },
   "cell_type": "code",
   "source": [
    "def exercise10() -> None:\n",
    "    pass\n",
    "\n",
    "\n",
    "exercise10()"
   ],
   "id": "6635cf32cdb3eef5",
   "outputs": [],
   "execution_count": 12
  }
 ],
 "metadata": {
  "kernelspec": {
   "display_name": "Python 3",
   "language": "python",
   "name": "python3"
  },
  "language_info": {
   "codemirror_mode": {
    "name": "ipython",
    "version": 2
   },
   "file_extension": ".py",
   "mimetype": "text/x-python",
   "name": "python",
   "nbconvert_exporter": "python",
   "pygments_lexer": "ipython2",
   "version": "2.7.6"
  }
 },
 "nbformat": 4,
 "nbformat_minor": 5
}
